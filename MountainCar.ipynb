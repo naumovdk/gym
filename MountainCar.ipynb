{
 "cells": [
  {
   "cell_type": "code",
   "execution_count": 8,
   "metadata": {},
   "outputs": [
    {
     "name": "stdout",
     "output_type": "stream",
     "text": [
      "copying adventure.bin from C:\\Users\\Mi\\Desktop\\gym\\Roms\\ROMS\\ROMS\\Adventure (1980) (Atari, Warren Robinett) (CX2613, CX2613P) (PAL).bin to C:\\Users\\Mi\\Anaconda3\\lib\\site-packages\\atari_py\\atari_roms\\adventure.bin\n",
      "copying air_raid.bin from C:\\Users\\Mi\\Desktop\\gym\\Roms\\ROMS\\ROMS\\Air Raid (Men-A-Vision) (PAL) ~.bin to C:\\Users\\Mi\\Anaconda3\\lib\\site-packages\\atari_py\\atari_roms\\air_raid.bin\n",
      "copying alien.bin from C:\\Users\\Mi\\Desktop\\gym\\Roms\\ROMS\\ROMS\\Alien (1982) (20th Century Fox Video Games, Douglas 'Dallas North' Neubauer) (11006) ~.bin to C:\\Users\\Mi\\Anaconda3\\lib\\site-packages\\atari_py\\atari_roms\\alien.bin\n",
      "copying amidar.bin from C:\\Users\\Mi\\Desktop\\gym\\Roms\\ROMS\\ROMS\\Amidar (1982) (Parker Brothers, Ed Temple) (PB5310) ~.bin to C:\\Users\\Mi\\Anaconda3\\lib\\site-packages\\atari_py\\atari_roms\\amidar.bin\n",
      "copying assault.bin from C:\\Users\\Mi\\Desktop\\gym\\Roms\\ROMS\\ROMS\\Assault (AKA Sky Alien) (1983) (Bomb - Onbase) (CA281).bin to C:\\Users\\Mi\\Anaconda3\\lib\\site-packages\\atari_py\\atari_roms\\assault.bin\n",
      "copying asterix.bin from C:\\Users\\Mi\\Desktop\\gym\\Roms\\ROMS\\ROMS\\Asterix (AKA Taz) (07-27-1983) (Atari, Jerome Domurat, Steve Woita) (CX2696) (Prototype).bin to C:\\Users\\Mi\\Anaconda3\\lib\\site-packages\\atari_py\\atari_roms\\asterix.bin\n",
      "copying asteroids.bin from C:\\Users\\Mi\\Desktop\\gym\\Roms\\ROMS\\ROMS\\Asteroids (1981) (Atari, Brad Stewart - Sears) (CX2649 - 49-75163) [no copyright] ~.bin to C:\\Users\\Mi\\Anaconda3\\lib\\site-packages\\atari_py\\atari_roms\\asteroids.bin\n",
      "copying atlantis.bin from C:\\Users\\Mi\\Desktop\\gym\\Roms\\ROMS\\ROMS\\Atlantis (Lost City of Atlantis) (1982) (Imagic, Dennis Koble) (720103-1A, 720103-1B, IA3203, IX-010-04) ~.bin to C:\\Users\\Mi\\Anaconda3\\lib\\site-packages\\atari_py\\atari_roms\\atlantis.bin\n",
      "copying bank_heist.bin from C:\\Users\\Mi\\Desktop\\gym\\Roms\\ROMS\\ROMS\\Bank Heist (Bonnie & Clyde, Cops 'n' Robbers, Hold-Up, Roaring 20's) (1983) (20th Century Fox Video Games, Bill Aspromonte) (11012) ~.bin to C:\\Users\\Mi\\Anaconda3\\lib\\site-packages\\atari_py\\atari_roms\\bank_heist.bin\n",
      "copying battle_zone.bin from C:\\Users\\Mi\\Desktop\\gym\\Roms\\ROMS\\ROMS\\Battlezone (1983) (Atari - GCC, Mike Feinstein, Brad Rice) (CX2681) ~.bin to C:\\Users\\Mi\\Anaconda3\\lib\\site-packages\\atari_py\\atari_roms\\battle_zone.bin\n",
      "copying beam_rider.bin from C:\\Users\\Mi\\Desktop\\gym\\Roms\\ROMS\\ROMS\\Beamrider (1984) (Activision - Cheshire Engineering, David Rolfe, Larry Zwick) (AZ-037-04) ~.bin to C:\\Users\\Mi\\Anaconda3\\lib\\site-packages\\atari_py\\atari_roms\\beam_rider.bin\n",
      "copying berzerk.bin from C:\\Users\\Mi\\Desktop\\gym\\Roms\\ROMS\\ROMS\\Berzerk (1982) (Atari, Dan Hitchens - Sears) (CX2650 - 49-75168) ~.bin to C:\\Users\\Mi\\Anaconda3\\lib\\site-packages\\atari_py\\atari_roms\\berzerk.bin\n",
      "copying bowling.bin from C:\\Users\\Mi\\Desktop\\gym\\Roms\\ROMS\\ROMS\\Bowling (1979) (Atari, Larry Kaplan - Sears) (CX2628 - 6-99842, 49-75117) ~.bin to C:\\Users\\Mi\\Anaconda3\\lib\\site-packages\\atari_py\\atari_roms\\bowling.bin\n",
      "copying boxing.bin from C:\\Users\\Mi\\Desktop\\gym\\Roms\\ROMS\\ROMS\\Boxing - La Boxe (1980) (Activision, Bob Whitehead) (AG-002, CAG-002, AG-002-04) ~.bin to C:\\Users\\Mi\\Anaconda3\\lib\\site-packages\\atari_py\\atari_roms\\boxing.bin\n",
      "copying breakout.bin from C:\\Users\\Mi\\Desktop\\gym\\Roms\\ROMS\\ROMS\\Breakout - Breakaway IV (Paddle) (1978) (Atari, Brad Stewart - Sears) (CX2622 - 6-99813, 49-75107) ~.bin to C:\\Users\\Mi\\Anaconda3\\lib\\site-packages\\atari_py\\atari_roms\\breakout.bin\n",
      "copying carnival.bin from C:\\Users\\Mi\\Desktop\\gym\\Roms\\ROMS\\ROMS\\Carnival (1982) (Coleco - Woodside Design Associates, Steve 'Jessica Stevens' Kitchen) (2468) ~.bin to C:\\Users\\Mi\\Anaconda3\\lib\\site-packages\\atari_py\\atari_roms\\carnival.bin\n",
      "copying centipede.bin from C:\\Users\\Mi\\Desktop\\gym\\Roms\\ROMS\\ROMS\\Centipede (1983) (Atari - GCC) (CX2676) ~.bin to C:\\Users\\Mi\\Anaconda3\\lib\\site-packages\\atari_py\\atari_roms\\centipede.bin\n",
      "copying chopper_command.bin from C:\\Users\\Mi\\Desktop\\gym\\Roms\\ROMS\\ROMS\\Chopper Command (1982) (Activision, Bob Whitehead) (AX-015, AX-015-04) ~.bin to C:\\Users\\Mi\\Anaconda3\\lib\\site-packages\\atari_py\\atari_roms\\chopper_command.bin\n",
      "copying crazy_climber.bin from C:\\Users\\Mi\\Desktop\\gym\\Roms\\ROMS\\ROMS\\Crazy Climber (1983) (Atari - Roklan, Joe Gaucher, Alex Leavens) (CX2683) ~.bin to C:\\Users\\Mi\\Anaconda3\\lib\\site-packages\\atari_py\\atari_roms\\crazy_climber.bin\n",
      "copying defender.bin from C:\\Users\\Mi\\Desktop\\gym\\Roms\\ROMS\\ROMS\\Defender (1982) (Atari, Robert C. Polaro, Alan J. Murphy - Sears) (CX2609 - 49-75186) ~.bin to C:\\Users\\Mi\\Anaconda3\\lib\\site-packages\\atari_py\\atari_roms\\defender.bin\n",
      "copying demon_attack.bin from C:\\Users\\Mi\\Desktop\\gym\\Roms\\ROMS\\ROMS\\Demon Attack (Death from Above) (1982) (Imagic, Rob Fulop) (720000-200, 720101-1B, 720101-1C, IA3200, IA3200C, IX-006-04) ~.bin to C:\\Users\\Mi\\Anaconda3\\lib\\site-packages\\atari_py\\atari_roms\\demon_attack.bin\n",
      "copying donkey_kong.bin from C:\\Users\\Mi\\Desktop\\gym\\Roms\\ROMS\\ROMS\\Donkey Kong (1982) (Coleco - Woodside Design Associates - Imaginative Systems Software, Garry Kitchen) (2451) ~.bin to C:\\Users\\Mi\\Anaconda3\\lib\\site-packages\\atari_py\\atari_roms\\donkey_kong.bin\n",
      "copying double_dunk.bin from C:\\Users\\Mi\\Desktop\\gym\\Roms\\ROMS\\ROMS\\Double Dunk (Super Basketball) (1989) (Atari, Matthew L. Hubbard) (CX26159) ~.bin to C:\\Users\\Mi\\Anaconda3\\lib\\site-packages\\atari_py\\atari_roms\\double_dunk.bin\n",
      "copying elevator_action.bin from C:\\Users\\Mi\\Desktop\\gym\\Roms\\ROMS\\ROMS\\Elevator Action (1983) (Atari, Dan Hitchens) (CX26126) (Prototype) ~.bin to C:\\Users\\Mi\\Anaconda3\\lib\\site-packages\\atari_py\\atari_roms\\elevator_action.bin\n",
      "copying enduro.bin from C:\\Users\\Mi\\Desktop\\gym\\Roms\\ROMS\\ROMS\\Enduro (1983) (Activision, Larry Miller) (AX-026, AX-026-04) ~.bin to C:\\Users\\Mi\\Anaconda3\\lib\\site-packages\\atari_py\\atari_roms\\enduro.bin\n",
      "copying fishing_derby.bin from C:\\Users\\Mi\\Desktop\\gym\\Roms\\ROMS\\ROMS\\Fishing Derby (1980) (Activision, David Crane) (AG-004) ~.bin to C:\\Users\\Mi\\Anaconda3\\lib\\site-packages\\atari_py\\atari_roms\\fishing_derby.bin\n",
      "copying freeway.bin from C:\\Users\\Mi\\Desktop\\gym\\Roms\\ROMS\\ROMS\\Freeway (1981) (Activision, David Crane) (AG-009, AG-009-04) ~.bin to C:\\Users\\Mi\\Anaconda3\\lib\\site-packages\\atari_py\\atari_roms\\freeway.bin\n",
      "copying frogger.bin from C:\\Users\\Mi\\Desktop\\gym\\Roms\\ROMS\\ROMS\\Frogger (1982) (Parker Brothers, Ed English, David Lamkins) (PB5300) ~.bin to C:\\Users\\Mi\\Anaconda3\\lib\\site-packages\\atari_py\\atari_roms\\frogger.bin\n",
      "copying frostbite.bin from C:\\Users\\Mi\\Desktop\\gym\\Roms\\ROMS\\ROMS\\Frostbite (1983) (Activision, Steve Cartwright) (AX-031) ~.bin to C:\\Users\\Mi\\Anaconda3\\lib\\site-packages\\atari_py\\atari_roms\\frostbite.bin\n",
      "copying galaxian.bin from C:\\Users\\Mi\\Desktop\\gym\\Roms\\ROMS\\ROMS\\Galaxian (1983) (Atari - GCC, Mark Ackerman, Tom Calderwood, Glenn Parker) (CX2684) ~.bin to C:\\Users\\Mi\\Anaconda3\\lib\\site-packages\\atari_py\\atari_roms\\galaxian.bin\n",
      "copying gopher.bin from C:\\Users\\Mi\\Desktop\\gym\\Roms\\ROMS\\ROMS\\Gopher (Gopher Attack) (1982) (U.S. Games Corporation - JWDA, Sylvia Day, Todd Marshall, Robin McDaniel, Henry Will IV) (VC2001) ~.bin to C:\\Users\\Mi\\Anaconda3\\lib\\site-packages\\atari_py\\atari_roms\\gopher.bin\n",
      "copying gravitar.bin from C:\\Users\\Mi\\Desktop\\gym\\Roms\\ROMS\\ROMS\\Gravitar (1983) (Atari, Dan Hitchens, Mimi Nyden) (CX2685) ~.bin to C:\\Users\\Mi\\Anaconda3\\lib\\site-packages\\atari_py\\atari_roms\\gravitar.bin\n",
      "copying hero.bin from C:\\Users\\Mi\\Desktop\\gym\\Roms\\ROMS\\ROMS\\H.E.R.O. (1984) (Activision, John Van Ryzin) (AZ-036-04) ~.bin to C:\\Users\\Mi\\Anaconda3\\lib\\site-packages\\atari_py\\atari_roms\\hero.bin\n",
      "copying ice_hockey.bin from C:\\Users\\Mi\\Desktop\\gym\\Roms\\ROMS\\ROMS\\Ice Hockey - Le Hockey Sur Glace (1981) (Activision, Alan Miller) (AX-012, CAX-012, AX-012-04) ~.bin to C:\\Users\\Mi\\Anaconda3\\lib\\site-packages\\atari_py\\atari_roms\\ice_hockey.bin\n",
      "copying jamesbond.bin from C:\\Users\\Mi\\Desktop\\gym\\Roms\\ROMS\\ROMS\\James Bond 007 (James Bond Agent 007) (1984) (Parker Brothers - On-Time Software, Joe Gaucher, Louis Marbel) (PB5110) ~.bin to C:\\Users\\Mi\\Anaconda3\\lib\\site-packages\\atari_py\\atari_roms\\jamesbond.bin\n",
      "copying journey_escape.bin from C:\\Users\\Mi\\Desktop\\gym\\Roms\\ROMS\\ROMS\\Journey Escape (1983) (Data Age, J. Ray Dettling) (112-006) ~.bin to C:\\Users\\Mi\\Anaconda3\\lib\\site-packages\\atari_py\\atari_roms\\journey_escape.bin\n",
      "copying kaboom.bin from C:\\Users\\Mi\\Desktop\\gym\\Roms\\ROMS\\ROMS\\Kaboom! (Paddle) (1981) (Activision, Larry Kaplan, David Crane) (AG-010, AG-010-04) ~.bin to C:\\Users\\Mi\\Anaconda3\\lib\\site-packages\\atari_py\\atari_roms\\kaboom.bin\n",
      "copying kangaroo.bin from C:\\Users\\Mi\\Desktop\\gym\\Roms\\ROMS\\ROMS\\Kangaroo (1983) (Atari - GCC, Kevin Osborn) (CX2689) ~.bin to C:\\Users\\Mi\\Anaconda3\\lib\\site-packages\\atari_py\\atari_roms\\kangaroo.bin\n",
      "copying keystone_kapers.bin from C:\\Users\\Mi\\Desktop\\gym\\Roms\\ROMS\\ROMS\\Keystone Kapers - Raueber und Gendarm (1983) (Activision, Garry Kitchen - Ariola) (EAX-025, EAX-025-04I - 711 025-725) (PAL).bin to C:\\Users\\Mi\\Anaconda3\\lib\\site-packages\\atari_py\\atari_roms\\keystone_kapers.bin\n",
      "copying king_kong.bin from C:\\Users\\Mi\\Desktop\\gym\\Roms\\ROMS\\ROMS\\King Kong (1982) (Tigervision - Software Electronics Corporation, Karl T. Olinger - Teldec) (7-001 - 3.60001 VE) (PAL).bin to C:\\Users\\Mi\\Anaconda3\\lib\\site-packages\\atari_py\\atari_roms\\king_kong.bin\n",
      "copying koolaid.bin from C:\\Users\\Mi\\Desktop\\gym\\Roms\\ROMS\\ROMS\\Kool-Aid Man (Kool Aid Pitcher Man) (1983) (M Network, Stephen Tatsumi, Jane Terjung - Kool Aid) (MT4648) ~.bin to C:\\Users\\Mi\\Anaconda3\\lib\\site-packages\\atari_py\\atari_roms\\koolaid.bin\n",
      "copying krull.bin from C:\\Users\\Mi\\Desktop\\gym\\Roms\\ROMS\\ROMS\\Krull (1983) (Atari, Jerome Domurat, Dave Staugas) (CX2682) ~.bin to C:\\Users\\Mi\\Anaconda3\\lib\\site-packages\\atari_py\\atari_roms\\krull.bin\n",
      "copying kung_fu_master.bin from C:\\Users\\Mi\\Desktop\\gym\\Roms\\ROMS\\ROMS\\Kung-Fu Master (1987) (Activision - Imagineering, Dan Kitchen, Garry Kitchen) (AG-039-04) ~.bin to C:\\Users\\Mi\\Anaconda3\\lib\\site-packages\\atari_py\\atari_roms\\kung_fu_master.bin\n",
      "copying laser_gates.bin from C:\\Users\\Mi\\Desktop\\gym\\Roms\\ROMS\\ROMS\\Laser Gates (AKA Innerspace) (1983) (Imagic, Dan Oliver) (720118-2A, 13208, EIX-007-04I) (PAL).bin to C:\\Users\\Mi\\Anaconda3\\lib\\site-packages\\atari_py\\atari_roms\\laser_gates.bin\n",
      "copying lost_luggage.bin from C:\\Users\\Mi\\Desktop\\gym\\Roms\\ROMS\\ROMS\\Lost Luggage (Airport Mayhem) (1982) (Apollo - Games by Apollo, Larry Minor, Ernie Runyon, Ed Salvo) (AP-2004) [no opening scene] ~.bin to C:\\Users\\Mi\\Anaconda3\\lib\\site-packages\\atari_py\\atari_roms\\lost_luggage.bin\n",
      "copying montezuma_revenge.bin from C:\\Users\\Mi\\Desktop\\gym\\Roms\\ROMS\\ROMS\\Montezuma's Revenge - Featuring Panama Joe (1984) (Parker Brothers - JWDA, Henry Will IV) (PB5760) ~.bin to C:\\Users\\Mi\\Anaconda3\\lib\\site-packages\\atari_py\\atari_roms\\montezuma_revenge.bin\n",
      "copying mr_do.bin from C:\\Users\\Mi\\Desktop\\gym\\Roms\\ROMS\\ROMS\\Mr. Do! (1983) (CBS Electronics, Ed English) (4L4478) (PAL).bin to C:\\Users\\Mi\\Anaconda3\\lib\\site-packages\\atari_py\\atari_roms\\mr_do.bin\n",
      "copying ms_pacman.bin from C:\\Users\\Mi\\Desktop\\gym\\Roms\\ROMS\\ROMS\\Ms. Pac-Man (1983) (Atari - GCC, Mark Ackerman, Glenn Parker) (CX2675) ~.bin to C:\\Users\\Mi\\Anaconda3\\lib\\site-packages\\atari_py\\atari_roms\\ms_pacman.bin\n",
      "copying name_this_game.bin from C:\\Users\\Mi\\Desktop\\gym\\Roms\\ROMS\\ROMS\\Name This Game (Guardians of Treasure) (1983) (U.S. Games Corporation - JWDA, Roger Booth, Sylvia Day, Ron Dubren, Todd Marshall, Robin McDaniel, Wes Trager, Henry Will IV) (VC1007) ~.bin to C:\\Users\\Mi\\Anaconda3\\lib\\site-packages\\atari_py\\atari_roms\\name_this_game.bin\n",
      "copying pacman.bin from C:\\Users\\Mi\\Desktop\\gym\\Roms\\ROMS\\ROMS\\Pac-Man (1982) (Atari, Tod Frye) (CX2646) (PAL).bin to C:\\Users\\Mi\\Anaconda3\\lib\\site-packages\\atari_py\\atari_roms\\pacman.bin\n",
      "copying phoenix.bin from C:\\Users\\Mi\\Desktop\\gym\\Roms\\ROMS\\ROMS\\Phoenix (1983) (Atari - GCC, Mike Feinstein, John Mracek) (CX2673) ~.bin to C:\\Users\\Mi\\Anaconda3\\lib\\site-packages\\atari_py\\atari_roms\\phoenix.bin\n",
      "copying video_pinball.bin from C:\\Users\\Mi\\Desktop\\gym\\Roms\\ROMS\\ROMS\\Pinball (AKA Video Pinball) (Zellers).bin to C:\\Users\\Mi\\Anaconda3\\lib\\site-packages\\atari_py\\atari_roms\\video_pinball.bin\n",
      "copying pitfall.bin from C:\\Users\\Mi\\Desktop\\gym\\Roms\\ROMS\\ROMS\\Pitfall! - Pitfall Harry's Jungle Adventure (Jungle Runner) (1982) (Activision, David Crane) (AX-018, AX-018-04) ~.bin to C:\\Users\\Mi\\Anaconda3\\lib\\site-packages\\atari_py\\atari_roms\\pitfall.bin\n",
      "copying pooyan.bin from C:\\Users\\Mi\\Desktop\\gym\\Roms\\ROMS\\ROMS\\Pooyan (1983) (Konami) (RC 100-X 02) ~.bin to C:\\Users\\Mi\\Anaconda3\\lib\\site-packages\\atari_py\\atari_roms\\pooyan.bin\n",
      "copying private_eye.bin from C:\\Users\\Mi\\Desktop\\gym\\Roms\\ROMS\\ROMS\\Private Eye (1984) (Activision, Bob Whitehead) (AG-034-04) ~.bin to C:\\Users\\Mi\\Anaconda3\\lib\\site-packages\\atari_py\\atari_roms\\private_eye.bin\n",
      "copying qbert.bin from C:\\Users\\Mi\\Desktop\\gym\\Roms\\ROMS\\ROMS\\Q-bert (1983) (Parker Brothers - Western Technologies, Dave Hampton, Tom Sloper) (PB5360) ~.bin to C:\\Users\\Mi\\Anaconda3\\lib\\site-packages\\atari_py\\atari_roms\\qbert.bin\n",
      "copying riverraid.bin from C:\\Users\\Mi\\Desktop\\gym\\Roms\\ROMS\\ROMS\\River Raid (1982) (Activision, Carol Shaw) (AX-020, AX-020-04) ~.bin to C:\\Users\\Mi\\Anaconda3\\lib\\site-packages\\atari_py\\atari_roms\\riverraid.bin\n",
      "copying road_runner.bin from patched version of C:\\Users\\Mi\\Desktop\\gym\\Roms\\ROMS\\ROMS\\Road Runner (1989) (Atari - Bobco, Robert C. Polaro) (CX2663) ~.bin to C:\\Users\\Mi\\Anaconda3\\lib\\site-packages\\atari_py\\atari_roms\\road_runner.bin\n",
      "copying robotank.bin from C:\\Users\\Mi\\Desktop\\gym\\Roms\\ROMS\\ROMS\\Robot Tank (Robotank) (1983) (Activision, Alan Miller) (AZ-028, AG-028-04) ~.bin to C:\\Users\\Mi\\Anaconda3\\lib\\site-packages\\atari_py\\atari_roms\\robotank.bin\n",
      "copying seaquest.bin from C:\\Users\\Mi\\Desktop\\gym\\Roms\\ROMS\\ROMS\\Seaquest (1983) (Activision, Steve Cartwright) (AX-022) ~.bin to C:\\Users\\Mi\\Anaconda3\\lib\\site-packages\\atari_py\\atari_roms\\seaquest.bin\n",
      "copying sir_lancelot.bin from C:\\Users\\Mi\\Desktop\\gym\\Roms\\ROMS\\ROMS\\Sir Lancelot (1983) (Xonox - K-Tel Software - Product Guild, Anthony R. Henderson) (99006, 6220) (PAL).bin to C:\\Users\\Mi\\Anaconda3\\lib\\site-packages\\atari_py\\atari_roms\\sir_lancelot.bin\n",
      "copying skiing.bin from C:\\Users\\Mi\\Desktop\\gym\\Roms\\ROMS\\ROMS\\Skiing - Le Ski (1980) (Activision, Bob Whitehead) (AG-005, CAG-005, AG-005-04) ~.bin to C:\\Users\\Mi\\Anaconda3\\lib\\site-packages\\atari_py\\atari_roms\\skiing.bin\n",
      "copying solaris.bin from C:\\Users\\Mi\\Desktop\\gym\\Roms\\ROMS\\ROMS\\Solaris (The Last Starfighter, Star Raiders II, Universe) (1986) (Atari, Douglas Neubauer, Mimi Nyden) (CX26136) ~.bin to C:\\Users\\Mi\\Anaconda3\\lib\\site-packages\\atari_py\\atari_roms\\solaris.bin\n",
      "copying space_invaders.bin from C:\\Users\\Mi\\Desktop\\gym\\Roms\\ROMS\\ROMS\\Space Invaders (1980) (Atari, Richard Maurer - Sears) (CX2632 - 49-75153) ~.bin to C:\\Users\\Mi\\Anaconda3\\lib\\site-packages\\atari_py\\atari_roms\\space_invaders.bin\n",
      "copying star_gunner.bin from C:\\Users\\Mi\\Desktop\\gym\\Roms\\ROMS\\ROMS\\Stargunner (1983) (Telesys, Alex Leavens) (1005) ~.bin to C:\\Users\\Mi\\Anaconda3\\lib\\site-packages\\atari_py\\atari_roms\\star_gunner.bin\n",
      "copying surround.bin from C:\\Users\\Mi\\Desktop\\gym\\Roms\\ROMS\\ROMS\\Surround (32 in 1) (Bit Corporation) (R320).bin to C:\\Users\\Mi\\Anaconda3\\lib\\site-packages\\atari_py\\atari_roms\\surround.bin\n",
      "copying tennis.bin from C:\\Users\\Mi\\Desktop\\gym\\Roms\\ROMS\\ROMS\\Tennis - Le Tennis (1981) (Activision, Alan Miller) (AG-007, CAG-007) ~.bin to C:\\Users\\Mi\\Anaconda3\\lib\\site-packages\\atari_py\\atari_roms\\tennis.bin\n",
      "copying time_pilot.bin from C:\\Users\\Mi\\Desktop\\gym\\Roms\\ROMS\\ROMS\\Time Pilot (1983) (Coleco - Woodside Design Associates, Harley H. Puthuff Jr.) (2663) ~.bin to C:\\Users\\Mi\\Anaconda3\\lib\\site-packages\\atari_py\\atari_roms\\time_pilot.bin\n",
      "copying trondead.bin from C:\\Users\\Mi\\Desktop\\gym\\Roms\\ROMS\\ROMS\\TRON - Deadly Discs (TRON Joystick) (1983) (M Network - INTV - APh Technological Consulting, Jeff Ronne, Brett Stutz) (MT5662) ~.bin to C:\\Users\\Mi\\Anaconda3\\lib\\site-packages\\atari_py\\atari_roms\\trondead.bin\n",
      "copying tutankham.bin from C:\\Users\\Mi\\Desktop\\gym\\Roms\\ROMS\\ROMS\\Tutankham (1983) (Parker Brothers, Dave Engman, Dawn Stockbridge) (PB5340) ~.bin to C:\\Users\\Mi\\Anaconda3\\lib\\site-packages\\atari_py\\atari_roms\\tutankham.bin\n",
      "copying up_n_down.bin from C:\\Users\\Mi\\Desktop\\gym\\Roms\\ROMS\\ROMS\\Up 'n Down (1984) (SEGA - Beck-Tech, Steve Beck, Phat Ho) (009-01) ~.bin to C:\\Users\\Mi\\Anaconda3\\lib\\site-packages\\atari_py\\atari_roms\\up_n_down.bin\n",
      "copying venture.bin from C:\\Users\\Mi\\Desktop\\gym\\Roms\\ROMS\\ROMS\\Venture (1982) (Coleco, Joseph Biel) (2457) ~.bin to C:\\Users\\Mi\\Anaconda3\\lib\\site-packages\\atari_py\\atari_roms\\venture.bin\n",
      "copying pong.bin from C:\\Users\\Mi\\Desktop\\gym\\Roms\\ROMS\\ROMS\\Video Olympics - Pong Sports (Paddle) (1977) (Atari, Joe Decuir - Sears) (CX2621 - 99806, 6-99806, 49-75104) ~.bin to C:\\Users\\Mi\\Anaconda3\\lib\\site-packages\\atari_py\\atari_roms\\pong.bin\n",
      "copying wizard_of_wor.bin from C:\\Users\\Mi\\Desktop\\gym\\Roms\\ROMS\\ROMS\\Wizard of Wor (1982) (CBS Electronics - Roklan, Joe Hellesen, Joe Wagner) (M8774, M8794) ~.bin to C:\\Users\\Mi\\Anaconda3\\lib\\site-packages\\atari_py\\atari_roms\\wizard_of_wor.bin\n",
      "copying yars_revenge.bin from C:\\Users\\Mi\\Desktop\\gym\\Roms\\ROMS\\ROMS\\Yars' Revenge (Time Freeze) (1982) (Atari, Howard Scott Warshaw - Sears) (CX2655 - 49-75167) ~.bin to C:\\Users\\Mi\\Anaconda3\\lib\\site-packages\\atari_py\\atari_roms\\yars_revenge.bin\n",
      "copying zaxxon.bin from C:\\Users\\Mi\\Desktop\\gym\\Roms\\ROMS\\ROMS\\Zaxxon (1983) (Coleco) (2454) ~.bin to C:\\Users\\Mi\\Anaconda3\\lib\\site-packages\\atari_py\\atari_roms\\zaxxon.bin\n"
     ]
    }
   ],
   "source": [
    "!python -m atari_py.import_roms C:\\Users\\Mi\\Desktop\\gym\\Roms\\ROMS\\ROMS"
   ]
  },
  {
   "cell_type": "code",
   "execution_count": null,
   "metadata": {},
   "outputs": [],
   "source": [
    "!pip uninstall gym[atari]"
   ]
  },
  {
   "cell_type": "code",
   "execution_count": null,
   "metadata": {},
   "outputs": [],
   "source": [
    "!pip uninstall arari_py"
   ]
  },
  {
   "cell_type": "code",
   "execution_count": null,
   "metadata": {},
   "outputs": [],
   "source": [
    "!pip install cmake"
   ]
  },
  {
   "cell_type": "code",
   "execution_count": null,
   "metadata": {},
   "outputs": [],
   "source": [
    "!pip install atari_py"
   ]
  },
  {
   "cell_type": "code",
   "execution_count": 2,
   "metadata": {},
   "outputs": [
    {
     "name": "stdout",
     "output_type": "stream",
     "text": [
      "Collecting gym[atari]\n",
      "  Using cached gym-0.18.3-py3-none-any.whl\n",
      "Collecting pyglet<=1.5.15,>=1.4.0\n",
      "  Using cached pyglet-1.5.15-py3-none-any.whl (1.1 MB)\n",
      "Collecting numpy>=1.10.4\n",
      "  Downloading numpy-1.20.3-cp38-cp38-win_amd64.whl (13.7 MB)\n",
      "Collecting cloudpickle<1.7.0,>=1.2.0\n",
      "  Downloading cloudpickle-1.6.0-py3-none-any.whl (23 kB)\n",
      "Collecting scipy\n",
      "  Downloading scipy-1.6.3-cp38-cp38-win_amd64.whl (32.7 MB)\n",
      "Collecting Pillow<=8.2.0\n",
      "  Downloading Pillow-8.2.0-cp38-cp38-win_amd64.whl (2.2 MB)\n",
      "Collecting atari-py~=0.2.0\n",
      "  Downloading atari_py-0.2.9-cp38-cp38-win_amd64.whl (1.6 MB)\n",
      "Collecting opencv-python>=3.\n",
      "  Downloading opencv_python-4.5.2.52-cp38-cp38-win_amd64.whl (34.7 MB)\n",
      "Requirement already satisfied: six in c:\\users\\vaunom\\anaconda3\\envs\\env0\\lib\\site-packages (from atari-py~=0.2.0->gym[atari]) (1.15.0)\n",
      "Installing collected packages: numpy, scipy, pyglet, Pillow, cloudpickle, opencv-python, gym, atari-py\n",
      "Successfully installed Pillow-8.2.0 atari-py-0.2.9 cloudpickle-1.6.0 gym-0.18.3 numpy-1.20.3 opencv-python-4.5.2.52 pyglet-1.5.15 scipy-1.6.3\n"
     ]
    }
   ],
   "source": [
    "!pip install gym[atari]"
   ]
  },
  {
   "cell_type": "code",
   "execution_count": null,
   "metadata": {},
   "outputs": [],
   "source": [
    "!pip install matplotlib"
   ]
  },
  {
   "cell_type": "code",
   "execution_count": 2,
   "metadata": {},
   "outputs": [
    {
     "name": "stdout",
     "output_type": "stream",
     "text": [
      "Collecting torch\n",
      "  Using cached torch-1.8.1-cp38-cp38-win_amd64.whl (190.5 MB)\n",
      "Collecting typing-extensions\n",
      "  Downloading typing_extensions-3.10.0.0-py3-none-any.whl (26 kB)\n",
      "Requirement already satisfied: numpy in c:\\users\\vaunom\\anaconda3\\envs\\env0\\lib\\site-packages (from torch) (1.20.3)\n",
      "Installing collected packages: typing-extensions, torch\n",
      "Successfully installed torch-1.8.1 typing-extensions-3.10.0.0\n"
     ]
    }
   ],
   "source": [
    "!pip install torch"
   ]
  },
  {
   "cell_type": "code",
   "execution_count": 276,
   "metadata": {},
   "outputs": [],
   "source": [
    "import gym\n",
    "import atari_py\n",
    "\n",
    "import numpy as np\n",
    "\n",
    "import matplotlib\n",
    "import matplotlib.pyplot as plt\n",
    "\n",
    "from collections import namedtuple, deque\n",
    "from itertools import count\n",
    "from PIL import Image\n",
    "import copy\n",
    "\n",
    "import torch\n",
    "from torch import nn\n",
    "from torch import optim\n",
    "import torch.nn.functional as F"
   ]
  },
  {
   "cell_type": "code",
   "execution_count": 3,
   "metadata": {},
   "outputs": [
    {
     "data": {
      "text/plain": [
       "True"
      ]
     },
     "execution_count": 3,
     "metadata": {},
     "output_type": "execute_result"
    }
   ],
   "source": [
    "torch.cuda.is_available()"
   ]
  },
  {
   "cell_type": "code",
   "execution_count": 4,
   "metadata": {},
   "outputs": [],
   "source": [
    "device = torch.device('cuda:0' if torch.cuda.is_available() else 'cpu')"
   ]
  },
  {
   "cell_type": "code",
   "execution_count": 5,
   "metadata": {},
   "outputs": [
    {
     "data": {
      "text/plain": [
       "device(type='cuda', index=0)"
      ]
     },
     "execution_count": 5,
     "metadata": {},
     "output_type": "execute_result"
    }
   ],
   "source": [
    "device"
   ]
  },
  {
   "cell_type": "code",
   "execution_count": 237,
   "metadata": {},
   "outputs": [
    {
     "data": {
      "text/plain": [
       "(tensor([[0., 0.],\n",
       "         [0., 0.]], device='cuda:0'), tensor([[0., 0.],\n",
       "         [0., 0.]], device='cuda:0'), tensor([0, 0], device='cuda:0'), tensor([0., 0.], device='cuda:0'), tensor([False, False], device='cuda:0'))"
      ]
     },
     "execution_count": 237,
     "metadata": {},
     "output_type": "execute_result"
    }
   ],
   "source": [
    "class Cache:\n",
    "    def __init__(self, capacity, state_shape):\n",
    "        self.capacity = capacity\n",
    "        self.states = torch.zeros((capacity, state_shape), device=device, dtype=torch.float)\n",
    "        self.next_states = torch.zeros((capacity, state_shape), device=device)\n",
    "        self.actions = torch.zeros(capacity, device=device, dtype=torch.long)\n",
    "        self.rewards = torch.zeros(capacity, device=device, dtype=torch.float)\n",
    "        self.dones = torch.zeros(capacity, device=device, dtype=torch.bool)\n",
    "        \n",
    "        self.index = 0\n",
    "        self._full = False\n",
    "        \n",
    "    \n",
    "    def push(self, state, next_state, action, reward, done):\n",
    "        self.states[self.index] = state\n",
    "        self.next_states[self.index] = next_state\n",
    "        self.rewards[self.index] = reward\n",
    "        self.dones[self.index] = done\n",
    "        self.actions[self.index] = action\n",
    "        \n",
    "        self.index = self.index + 1\n",
    "        if self.index == self.capacity:\n",
    "            self.index %= self.capacity\n",
    "            self._full = True\n",
    "    \n",
    "    def sample(self, batch_size):\n",
    "        indexes = torch.randperm(self.capacity)[:batch_size]\n",
    "        \n",
    "        return self.states[indexes], self.next_states[indexes] \\\n",
    "                , self.actions[indexes], self.rewards[indexes], self.dones[indexes]\n",
    "    \n",
    "    \n",
    "    def full(self):\n",
    "        return self._full\n",
    "    \n",
    "\n",
    "Cache(5, 2).sample(2)"
   ]
  },
  {
   "cell_type": "code",
   "execution_count": 259,
   "metadata": {},
   "outputs": [],
   "source": [
    "class Agent:\n",
    "    def __init__(self, net, output_dim, lr, optimizer, loss_function\n",
    "                 , gamma, eps, eps_min_bound, state_shape, cache_size, batch_size, iterations):\n",
    "        \n",
    "        self.policy_net = net\n",
    "        self.target_net = copy.deepcopy(self.policy_net)\n",
    "        \n",
    "        self.policy_net.to(device)\n",
    "        self.target_net.to(device)\n",
    "        \n",
    "        self.optimizer = optimizer(self.policy_net.parameters(), lr=lr)\n",
    "        self.loss_function = loss_function\n",
    "        \n",
    "        self.output_dim = output_dim\n",
    "        \n",
    "        self.gamma = gamma\n",
    "        self.eps = eps\n",
    "        self.eps_decay = (eps - eps_min_bound) / iterations\n",
    "        self.eps_min_bound = eps_min_bound\n",
    "        \n",
    "        self.cache = Cache(cache_size, state_shape)\n",
    "        self.batch_size = batch_size\n",
    "        \n",
    "        self.iterations = iterations\n",
    "    \n",
    "    def select_action(self, state):\n",
    "        self.eps -= self.eps_decay\n",
    "        self.eps = max(self.eps, self.eps_min_bound)\n",
    "        \n",
    "        if np.random.random() < self.eps:\n",
    "            return self.random_action()\n",
    "        \n",
    "        return self.policy_net(state).argmax().item()\n",
    "    \n",
    "    def random_action(self):\n",
    "        return np.random.randint(0, self.output_dim)\n",
    "    \n",
    "    \n",
    "    def fit(self):\n",
    "        states, next_states, actions, rewards, dones = self.cache.sample(self.batch_size)\n",
    "        \n",
    "        target_q = torch.zeros(self.batch_size).to(device).float()\n",
    "        with torch.no_grad():\n",
    "            target_q = self.target_net(next_states).max(1)[0]\n",
    "        target_q[done] = 0\n",
    "        target_q = rewards + target_q * self.gamma\n",
    "        \n",
    "        actual_q = self.policy_net(states).gather(1, actions.unsqueeze(1))\n",
    "        \n",
    "        loss = self.loss_function(actual_q, target_q.unsqueeze(1))\n",
    "        self.optimizer.zero_grad()\n",
    "        loss.backward()\n",
    "        self.optimizer.step()"
   ]
  },
  {
   "cell_type": "markdown",
   "metadata": {},
   "source": [
    "### Mounatin Car"
   ]
  },
  {
   "cell_type": "code",
   "execution_count": 185,
   "metadata": {},
   "outputs": [],
   "source": [
    "env = gym.make('MountainCar-v0')"
   ]
  },
  {
   "cell_type": "code",
   "execution_count": 260,
   "metadata": {},
   "outputs": [],
   "source": [
    "net = nn.Sequential(\n",
    "        nn.Linear(2, 16),\n",
    "        nn.ReLU(),\n",
    "        nn.Linear(16, 16),\n",
    "        nn.ReLU(),\n",
    "        nn.Linear(16, 3)\n",
    "    )\n",
    "agent = Agent(net, 3, 0.00003, optim.Adam, F.smooth_l1_loss, 0.99, 0.9, 0.1, 2, 5000, 100, 120_000)"
   ]
  },
  {
   "cell_type": "code",
   "execution_count": 188,
   "metadata": {},
   "outputs": [
    {
     "name": "stdout",
     "output_type": "stream",
     "text": [
      "0 of 120000\n",
      "24000 of 120000\n",
      "48000 of 120000\n",
      "72000 of 120000\n",
      "96000 of 120000\n",
      "Wall time: 3min 46s\n"
     ]
    }
   ],
   "source": [
    "%%time\n",
    "\n",
    "done = True\n",
    "total_reward = (0, 0)\n",
    "reward_records = []\n",
    "\n",
    "for i in range(agent.iterations):\n",
    "    if done:\n",
    "        reward_records.append(total_reward)\n",
    "        total_reward = (0, 0)\n",
    "        state = torch.tensor(env.reset()).to(device).float()\n",
    "    if i % (agent.iterations // 5) == 0:\n",
    "        print(f'{i} of {agent.iterations}')\n",
    "\n",
    "    action = agent.select_action(state)\n",
    "    next_state, reward, done, _ = env.step(action)\n",
    "    \n",
    "    reward = (reward, np.abs(next_state[1]))\n",
    "    total_reward = (total_reward[0] + reward[0], total_reward[1] + reward[1])\n",
    "    \n",
    "    next_state = torch.tensor(next_state).float().to(device)\n",
    "\n",
    "    agent.cache.push(state=state, next_state=next_state, action=action, reward=reward[1], done=done)\n",
    "    state = next_state\n",
    "\n",
    "    if agent.cache.full():\n",
    "        agent.fit()\n",
    "\n",
    "    if i % 2000 == 0:\n",
    "        agent.target_net = copy.deepcopy(agent.policy_net)"
   ]
  },
  {
   "cell_type": "code",
   "execution_count": 189,
   "metadata": {},
   "outputs": [],
   "source": [
    "try:\n",
    "    n_games = 1\n",
    "    for i in range(n_games):\n",
    "        done = False\n",
    "        state = torch.tensor(env.reset()).to(device).float()\n",
    "        while not done:\n",
    "            action = agent.select_action(state)\n",
    "            next_state, reward, done, _ = env.step(action)\n",
    "\n",
    "            next_state = torch.tensor(next_state).float().to(device)\n",
    "\n",
    "            state = next_state\n",
    "\n",
    "            env.render()\n",
    "finally:\n",
    "    env.close()"
   ]
  },
  {
   "cell_type": "code",
   "execution_count": 190,
   "metadata": {},
   "outputs": [
    {
     "data": {
      "image/png": "[encoded data removed]",
      "text/plain": [
       "<Figure size 432x288 with 1 Axes>"
      ]
     },
     "metadata": {
      "needs_background": "light"
     },
     "output_type": "display_data"
    }
   ],
   "source": [
    "x = list(zip(*reward_records))\n",
    "plt.yscale('symlog')\n",
    "plt.plot(range(len(reward_records)), x[0])\n",
    "plt.plot(range(len(reward_records)), x[1])\n",
    "plt.show()"
   ]
  },
  {
   "cell_type": "markdown",
   "metadata": {},
   "source": [
    "### Breakout"
   ]
  },
  {
   "cell_type": "code",
   "execution_count": 269,
   "metadata": {},
   "outputs": [
    {
     "data": {
      "text/plain": [
       "5"
      ]
     },
     "execution_count": 269,
     "metadata": {},
     "output_type": "execute_result"
    }
   ],
   "source": [
    "env = gym.make('BreakoutDeterministic-v4')\n",
    "try:\n",
    "    env.reset()\n",
    "    state, reward, done, info = env.step(1)\n",
    "finally:\n",
    "    env.close()\n",
    "    \n",
    "info['ale.lives']"
   ]
  },
  {
   "cell_type": "code",
   "execution_count": 235,
   "metadata": {},
   "outputs": [],
   "source": [
    "def image_to_tensor(image, size=[84,84], l=31, r=-17, t=6, b=-7):\n",
    "    cropped = image[l:r, t:b]\n",
    "    tensor = T.ToTensor()(cropped)\n",
    "    mono = T.functional.rgb_to_grayscale(tensor)\n",
    "    resized = T.functional.resize(mono, size)\n",
    "    return resized"
   ]
  },
  {
   "cell_type": "code",
   "execution_count": 236,
   "metadata": {},
   "outputs": [
    {
     "data": {
      "image/png": "[encoded data removed]",
      "text/plain": [
       "<PIL.Image.Image image mode=L size=84x84 at 0x1780FDB7988>"
      ]
     },
     "execution_count": 236,
     "metadata": {},
     "output_type": "execute_result"
    }
   ],
   "source": [
    "T.ToPILImage()(image_to_tensor(state))"
   ]
  },
  {
   "cell_type": "code",
   "execution_count": 296,
   "metadata": {},
   "outputs": [],
   "source": [
    "class Cache:\n",
    "    def __init__(self, capacity, *state_shape):\n",
    "        self.capacity = capacity\n",
    "        self.states = torch.zeros(capacity, *state_shape, device=device, dtype=torch.float)\n",
    "        self.next_states = torch.zeros(capacity, *state_shape, device=device)\n",
    "        self.actions = torch.zeros(capacity, device=device, dtype=torch.long)\n",
    "        self.rewards = torch.zeros(capacity, device=device, dtype=torch.float)\n",
    "        self.dones = torch.zeros(capacity, device=device, dtype=torch.bool)\n",
    "        \n",
    "        self.index = 0\n",
    "        self._full = False\n",
    "        \n",
    "    \n",
    "    def push(self, state, action, reward, done):\n",
    "        self.states[self.index] = state\n",
    "        self.rewards[self.index] = reward\n",
    "        self.dones[self.index] = done\n",
    "        self.actions[self.index] = action\n",
    "        \n",
    "        self.index = self.index + 1\n",
    "        if self.index == self.capacity:\n",
    "            self.index %= self.capacity\n",
    "            self._full = True\n",
    "    \n",
    "    def sample(self, batch_size):\n",
    "        indexes = []\n",
    "        while len(indexes) < batch_size:\n",
    "            r = np.random.randint(self.capacity - 1)\n",
    "            if not self.dones[r]:\n",
    "                indexes.append(r)\n",
    "        \n",
    "        return self.states[indexes], self.states[[i + 1 for i in indexes]], self.actions[indexes], self.rewards[indexes], self.dones[indexes]\n",
    "    \n",
    "    \n",
    "    def full(self):\n",
    "        return self._full\n",
    "    \n",
    "\n",
    "Cache(5, *(4, 84, 84)).sample(2);"
   ]
  },
  {
   "cell_type": "code",
   "execution_count": null,
   "metadata": {},
   "outputs": [],
   "source": [
    "%%time\n",
    "\n",
    "last_observations = deque(maxlen=4)\n",
    "done = True\n",
    "total_reward = 0\n",
    "reward_records = []\n",
    "lives = 5\n",
    "\n",
    "for i in range(agent.iterations):\n",
    "    if done:\n",
    "        reward_records.append(total_reward)\n",
    "        total_reward = 0\n",
    "        observation = env.reset()\n",
    "        \n",
    "    if lives != info['ale.lives']:\n",
    "        for _ in range(4):\n",
    "            last_observations.append(observation)\n",
    "        state = torch.tensor(list(last_observations), device=device, dtype=torch.float)\n",
    "        lives = info['ale.lives']\n",
    "        \n",
    "    next_observation, reward, done, info = env.step(agent.select_action(state))\n",
    "\n",
    "    last_observations.append(observation)\n",
    "    \n",
    "    agent.cache.push(state=state, action=action, reward=reward, done=done)\n",
    "    state = next_state\n",
    "    \n",
    "    total_reward += reward\n",
    "    \n",
    "    if agent.cache.full() and np.random.random() < 0.25:\n",
    "        agent.fit()\n",
    "\n",
    "    if i % 2000 == 0:\n",
    "        agent.target_net = copy.deepcopy(agent.policy_net)\n",
    "        \n",
    "    if i % (agent.iterations // 5) == 0:\n",
    "        print(f'{i} of {agent.iterations}')"
   ]
  },
  {
   "cell_type": "code",
   "execution_count": 293,
   "metadata": {},
   "outputs": [
    {
     "data": {
      "text/plain": [
       "0.7911015496710183"
      ]
     },
     "execution_count": 293,
     "metadata": {},
     "output_type": "execute_result"
    }
   ],
   "source": [
    "np.random.random()"
   ]
  }
 ],
 "metadata": {
  "kernelspec": {
   "display_name": "Python 3",
   "language": "python",
   "name": "python3"
  },
  "language_info": {
   "codemirror_mode": {
    "name": "ipython",
    "version": 3
   },
   "file_extension": ".py",
   "mimetype": "text/x-python",
   "name": "python",
   "nbconvert_exporter": "python",
   "pygments_lexer": "ipython3",
   "version": "3.7.4"
  }
 },
 "nbformat": 4,
 "nbformat_minor": 4
}
